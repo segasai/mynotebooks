{
 "cells": [
  {
   "cell_type": "code",
   "execution_count": 1,
   "metadata": {
    "collapsed": true
   },
   "outputs": [],
   "source": [
    "import sklearn.ensemble as sken\n",
    "import astropy.table as atpy\n",
    "import numpy as np\n",
    "import sklearn.model_selection as skmose \n",
    "import ephem\n",
    "import astropy.time\n",
    "import matplotlib.pyplot as plt\n",
    "import healpy\n",
    "import sphdist\n"
   ]
  },
  {
   "cell_type": "code",
   "execution_count": 2,
   "metadata": {},
   "outputs": [
    {
     "data": {
      "text/plain": [
       "(array([  0.00000000e+00,   0.00000000e+00,   1.00000000e+00,\n",
       "          0.00000000e+00,   0.00000000e+00,   4.00000000e+00,\n",
       "          0.00000000e+00,   0.00000000e+00,   1.00000000e+00,\n",
       "          1.00000000e+00,   0.00000000e+00,   0.00000000e+00,\n",
       "          0.00000000e+00,   0.00000000e+00,   0.00000000e+00,\n",
       "          0.00000000e+00,   0.00000000e+00,   1.00000000e+00,\n",
       "          1.00000000e+00,   1.00000000e+00,   0.00000000e+00,\n",
       "          1.00000000e+00,   0.00000000e+00,   0.00000000e+00,\n",
       "          0.00000000e+00,   1.00000000e+00,   0.00000000e+00,\n",
       "          0.00000000e+00,   1.00000000e+00,   0.00000000e+00,\n",
       "          0.00000000e+00,   1.00000000e+00,   1.00000000e+00,\n",
       "          1.00000000e+00,   0.00000000e+00,   2.00000000e+00,\n",
       "          1.00000000e+00,   2.00000000e+00,   0.00000000e+00,\n",
       "          1.00000000e+00,   3.00000000e+00,   2.00000000e+00,\n",
       "          3.00000000e+00,   3.00000000e+00,   5.00000000e+00,\n",
       "          1.70000000e+01,   1.13000000e+02,   1.11900000e+03,\n",
       "          3.73100000e+03,   9.34100000e+03,   3.11920000e+04,\n",
       "          4.50960000e+04,   1.74480000e+04,   5.97900000e+03,\n",
       "          3.05600000e+03,   2.01000000e+03,   1.63100000e+03,\n",
       "          1.08200000e+03,   1.06700000e+03,   7.73000000e+02,\n",
       "          7.60000000e+02,   6.95000000e+02,   8.36000000e+02,\n",
       "          6.88000000e+02,   6.61000000e+02,   8.46000000e+02,\n",
       "          1.01100000e+03,   1.22000000e+03,   9.36000000e+02,\n",
       "          8.09000000e+02,   7.02000000e+02,   4.85000000e+02,\n",
       "          4.62000000e+02,   2.81000000e+02,   3.01000000e+02,\n",
       "          2.69000000e+02,   1.77000000e+02,   1.89000000e+02,\n",
       "          1.43000000e+02,   1.17000000e+02,   1.46000000e+02,\n",
       "          1.04000000e+02,   1.09000000e+02,   7.40000000e+01,\n",
       "          7.50000000e+01,   9.50000000e+01,   5.10000000e+01,\n",
       "          7.10000000e+01,   6.60000000e+01,   5.80000000e+01,\n",
       "          7.30000000e+01,   5.80000000e+01,   5.30000000e+01,\n",
       "          4.20000000e+01,   4.50000000e+01,   4.30000000e+01,\n",
       "          3.00000000e+01,   3.00000000e+01,   1.90000000e+01,\n",
       "          3.10000000e+01]),\n",
       " array([-5. , -4.9, -4.8, -4.7, -4.6, -4.5, -4.4, -4.3, -4.2, -4.1, -4. ,\n",
       "        -3.9, -3.8, -3.7, -3.6, -3.5, -3.4, -3.3, -3.2, -3.1, -3. , -2.9,\n",
       "        -2.8, -2.7, -2.6, -2.5, -2.4, -2.3, -2.2, -2.1, -2. , -1.9, -1.8,\n",
       "        -1.7, -1.6, -1.5, -1.4, -1.3, -1.2, -1.1, -1. , -0.9, -0.8, -0.7,\n",
       "        -0.6, -0.5, -0.4, -0.3, -0.2, -0.1,  0. ,  0.1,  0.2,  0.3,  0.4,\n",
       "         0.5,  0.6,  0.7,  0.8,  0.9,  1. ,  1.1,  1.2,  1.3,  1.4,  1.5,\n",
       "         1.6,  1.7,  1.8,  1.9,  2. ,  2.1,  2.2,  2.3,  2.4,  2.5,  2.6,\n",
       "         2.7,  2.8,  2.9,  3. ,  3.1,  3.2,  3.3,  3.4,  3.5,  3.6,  3.7,\n",
       "         3.8,  3.9,  4. ,  4.1,  4.2,  4.3,  4.4,  4.5,  4.6,  4.7,  4.8,\n",
       "         4.9,  5. ]),\n",
       " <a list of 100 Patch objects>)"
      ]
     },
     "execution_count": 2,
     "metadata": {},
     "output_type": "execute_result"
    },
    {
     "data": {
      "image/png": "[encoded data removed]",
      "text/plain": [
       "<matplotlib.figure.Figure at 0x7f5baa7ccac8>"
      ]
     },
     "metadata": {},
     "output_type": "display_data"
    }
   ],
   "source": [
    "#fname,format = 'des-moon-sky-t_fix.csv','ascii'\n",
    "\n",
    "# read the input file\n",
    "\n",
    "fname,format = 'DECam_sky.fits',None\n",
    "tab = atpy.Table().read(fname,format=format)\n",
    "tab =  tab[np.random.permutation(len(tab))]\n",
    "# permute just in case\n",
    "plt.hist (tab['trans'] ,range=(-5,5),bins=100)"
   ]
  },
  {
   "cell_type": "code",
   "execution_count": 3,
   "metadata": {
    "collapsed": true
   },
   "outputs": [],
   "source": [
    "# Compute some extra stuff (compute asimuths, zd of moon, sun and targets)\n",
    "\n",
    "sun = ephem.Sun()\n",
    "moon = ephem.Moon()\n",
    "obs = ephem.Observer()\n",
    "body = ephem.FixedBody()\n",
    "body._epoch=2000\n",
    "\n",
    "# Blanco \n",
    "obs.lon='-70:47:23.49' # E+\n",
    "obs.lat='-30:10:10.78' # N+\n",
    "times = astropy.time.Time(tab['mjd'],format='mjd')\n",
    "xdates =[_.datetime.strftime('%Y/%m/%d %H:%M:%S') for _ in times]\n",
    "\n",
    "moonP = []\n",
    "moonAlt = []\n",
    "sunAlt = []\n",
    "objAlt = []\n",
    "objAz = []\n",
    "sunAz = []\n",
    "moonAz = []\n",
    "\n",
    "for ra, dec, x in zip(tab['ra'],tab['dec'],xdates):\n",
    "        obs.date = x\n",
    "        body._ra = np.deg2rad(ra)\n",
    "        body._dec = np.deg2rad(dec)\n",
    "        moon.compute(obs)\n",
    "        sun.compute(obs)\n",
    "        body.compute(obs)\n",
    "\n",
    "        moonAlt.append(np.rad2deg(moon.alt))\n",
    "        moonAz.append(np.rad2deg(moon.az))\n",
    "        moonP.append(moon.phase)\n",
    "\n",
    "        sunAlt.append(np.rad2deg(sun.alt))\n",
    "        sunAz.append(np.rad2deg(sun.az))\n",
    "\n",
    "        objAlt.append(np.rad2deg(body.alt))      \n",
    "        objAz.append(np.rad2deg(body.az))\n",
    "\n",
    "sunAlt, moonP, moonAlt, objAlt, moonAz, sunAz, objAz = [np.array(_) for _ in [\n",
    "                sunAlt, moonP, moonAlt, objAlt, moonAz, sunAz, objAz]]"
   ]
  },
  {
   "cell_type": "code",
   "execution_count": 4,
   "metadata": {
    "collapsed": true
   },
   "outputs": [],
   "source": [
    "# Preparation of input data\n",
    "indat = np.array([tab['trans'], tab['zd'],tab['moonSep'],\n",
    "                tab['moonPhase'],tab['moonZD']])\n",
    "\n",
    "outdat = tab['sky']"
   ]
  },
  {
   "cell_type": "code",
   "execution_count": 22,
   "metadata": {
    "collapsed": true
   },
   "outputs": [],
   "source": [
    "maxSunAlt = -18 # maximum altitude of the Sun\n",
    "minExpTime = 10\n",
    "goodset= ( np.isfinite(indat).all(axis=0) &\n",
    "        (sunAlt < maxSunAlt) &\n",
    "        np.isfinite(outdat) &\n",
    "         (tab['exp']>minExpTime)) & (tab['trans']<5) & (tab['sky']<10)\n",
    "\n",
    "def fitmodel(filt, sub = None):\n",
    "    rfr = sken.RandomForestRegressor()\n",
    "    gsrfr = skmose.GridSearchCV(rfr, {'n_estimators':[300],\n",
    "                        'min_samples_split':[2,10,30,100],max_depth=[2,4,6,None],\n",
    "                                     'max_features':[2,3,4,5]}\n",
    "                n_jobs=8, cv=3)\n",
    "\n",
    "    xind = (tab['band'] == filt) & goodset\n",
    "    if sub is not None:\n",
    "        xind = xind & sub\n",
    "    indatF = indat[:,xind]\n",
    "    outdatF = outdat[xind]\n",
    "    gsrfr.fit(indatF.T, outdatF)\n",
    "    return gsrfr\n"
   ]
  },
  {
   "cell_type": "code",
   "execution_count": 6,
   "metadata": {},
   "outputs": [
    {
     "data": {
      "text/plain": [
       "<matplotlib.text.Text at 0x7f5ba25ad2b0>"
      ]
     },
     "execution_count": 6,
     "metadata": {},
     "output_type": "execute_result"
    },
    {
     "data": {
      "image/png": "[encoded data removed]",
      "text/plain": [
       "<matplotlib.figure.Figure at 0x7f5be080f7f0>"
      ]
     },
     "metadata": {},
     "output_type": "display_data"
    }
   ],
   "source": [
    "# fit the model on 90%\n",
    "frac  = 0.9\n",
    "sub = np.random.uniform(size=len(tab)) < frac\n",
    "modelR0 = fitmodel(2, sub)\n",
    "# predict on the rest of 10%\n",
    "indatC = indat[:,goodset & (tab['band'] == 2) & (~sub)]\n",
    "outdatC = outdat[goodset & (tab['band'] == 2) & (~sub)]\n",
    "predC = modelR0.predict(indatC.T)\n",
    "plt.plot(outdatC, predC, '.')\n",
    "plt.xlabel('Observed Sky')\n",
    "plt.ylabel('Predicted Sky')\n"
   ]
  },
  {
   "cell_type": "code",
   "execution_count": 23,
   "metadata": {
    "collapsed": true
   },
   "outputs": [],
   "source": [
    "modelG = fitmodel(1)\n",
    "modelR = fitmodel(2)\n",
    "modelI = fitmodel(3)\n",
    "#background models in different bands\n"
   ]
  },
  {
   "cell_type": "code",
   "execution_count": 34,
   "metadata": {
    "collapsed": true
   },
   "outputs": [],
   "source": [
    "def make_simulation(modeler, filt, N, minMoonDist= 35, clouds=True,seed=1):\n",
    "    # simulate the sky background distribution in a given filter\n",
    "    np.random.seed(seed)\n",
    "    minAlt = 30\n",
    "    # minimum altitude of objects above the horizon \n",
    "    # This should really come from the survey simulation as this is pure geometry.\n",
    "\n",
    "    maxMoonPhase = 90\n",
    "    # how dark the moon is allowed to be.\n",
    "    \n",
    "    sun = ephem.Sun()\n",
    "    moon = ephem.Moon()\n",
    "    obs = ephem.Observer()\n",
    "    body = ephem.FixedBody()\n",
    "    body._epoch = 2000\n",
    "\n",
    "    # Kitt Peak\n",
    "    obs.lon = '-111:47:23.49' # E+\n",
    "    obs.lat =  '31:10:10.78'   # N+\n",
    "\n",
    "    # random dates across the year\n",
    "    mjds = np.random.uniform(58000, 60000, size=10*N)\n",
    "    times = astropy.time.Time(mjds, format='mjd')\n",
    "    xdates = np.array([_.datetime.strftime('%Y/%m/%d %H:%M:%S') for _ in times])\n",
    "\n",
    "    moonP = []\n",
    "    moonAz = []\n",
    "    moonAlt = []\n",
    "    sunAz = []\n",
    "    sunAlt = []\n",
    "    objAz = []\n",
    "    objAlt = []\n",
    "\n",
    "    for x in (xdates):\n",
    "        obs.date = x\n",
    "        moon.compute(obs)\n",
    "        sun.compute(obs)\n",
    "\n",
    "        moonAz.append(np.rad2deg(moon.az))\n",
    "        moonAlt.append(np.rad2deg(moon.alt))\n",
    "        moonP.append(moon.phase)\n",
    "\n",
    "        sunAz.append(np.rad2deg(sun.az))\n",
    "        sunAlt.append(np.rad2deg(sun.alt))\n",
    "\n",
    "    sunAlt, moonP, moonAlt, moonAz, sunAz = [np.array(_) for _ in [\n",
    "                sunAlt, moonP, moonAlt, moonAz, sunAz]]\n",
    "    \n",
    "    moonP = np.rad2deg(np.arccos(2 * moonP / 100. - 1))\n",
    "    # convert moonphases (0-100%) to angle in degrees\n",
    "    \n",
    "    xind = (moonAlt > 0) & ( moonP < maxMoonPhase) & (sunAlt < maxSunAlt)\n",
    "    # select the time when moon is above the horizon, it is not twilight and \n",
    "    # moon is bright ( < 90deg)\n",
    " \n",
    "    xdates = xdates[xind]\n",
    "    sunAlt, moonP, moonAlt, moonAz, sunAz = [_[xind] for _ in [\n",
    "                sunAlt, moonP, moonAlt, moonAz, sunAz]]\n",
    "\n",
    "    # create fake population of targets \n",
    "    # that are uniformly distributed on the sky such that they have\n",
    "    # altitude above minAlt\n",
    "    # and the moon distance > minMoonDist\n",
    "\n",
    "    for curmoonAz, curmoonAlt in zip(moonAz, moonAlt):\n",
    "        # uniform distribution on the sky with Alt > minAlt\n",
    "        while True:\n",
    "            Az = np.random.uniform(0, 360)\n",
    "            Alt = np.rad2deg(np.arcsin(np.random.uniform(np.sin(np.deg2rad(minAlt)), 1)))\n",
    "            if sphdist.sphdist(Az, Alt, curmoonAz, curmoonAlt) > minMoonDist:\n",
    "                break\n",
    "        objAlt.append(Alt)\n",
    "        objAz.append(Az)\n",
    "    objAlt = np.array(objAlt)\n",
    "    objAz = np.array(objAz)\n",
    "    \n",
    "    moonD = sphdist.sphdist(objAz, objAlt, moonAz, moonAlt)\n",
    "    # distance from the objects to the moon \n",
    "    \n",
    "    #take random samples of transparencies the past\n",
    "    curtrans = tab['trans'][tab['band'] == filt]\n",
    "    simtrans = curtrans[np.random.randint(0,len(curtrans),size=len(moonD))]\n",
    "    if not clouds:\n",
    "        simtrans = simtrans*0. \n",
    "        # if no clouds assume that the transparency correction is zero mag\n",
    "    \n",
    "    indat = np.array([simtrans, 90 - objAlt, moonD, moonP, 90 - moonAlt])\n",
    "    simsky = modeler.predict(indat.T)\n",
    "    return simsky\n"
   ]
  },
  {
   "cell_type": "code",
   "execution_count": 9,
   "metadata": {},
   "outputs": [
    {
     "name": "stderr",
     "output_type": "stream",
     "text": [
      "WARNING: ErfaWarning: ERFA function \"d2dtf\" yielded 1 of \"dubious year (Note 5)\" [astropy._erfa.core]\n"
     ]
    }
   ],
   "source": [
    "simskyG = make_simulation(modelG, 1, 10000)\n",
    "simskyR = make_simulation(modelR, 2, 10000)\n",
    "simskyI = make_simulation(modelI, 3, 10000)\n",
    "simskyG20 = make_simulation(modelG, 1, 10000, minMoonDist=20)\n",
    "simskyG60 = make_simulation(modelG, 1, 10000, minMoonDist=60)\n"
   ]
  },
  {
   "cell_type": "code",
   "execution_count": 35,
   "metadata": {},
   "outputs": [
    {
     "name": "stderr",
     "output_type": "stream",
     "text": [
      "WARNING: ErfaWarning: ERFA function \"d2dtf\" yielded 1 of \"dubious year (Note 5)\" [astropy._erfa.core]\n"
     ]
    }
   ],
   "source": [
    "simskyG60 = make_simulation(modelG, 1, 10000, minMoonDist=60,seed=1)"
   ]
  },
  {
   "cell_type": "code",
   "execution_count": 11,
   "metadata": {},
   "outputs": [
    {
     "data": {
      "text/plain": [
       "<matplotlib.legend.Legend at 0x7f5ba8680390>"
      ]
     },
     "execution_count": 11,
     "metadata": {},
     "output_type": "execute_result"
    },
    {
     "data": {
      "image/png": "[encoded data removed]",
      "text/plain": [
       "<matplotlib.figure.Figure at 0x7f5ba8680518>"
      ]
     },
     "metadata": {},
     "output_type": "display_data"
    }
   ],
   "source": [
    "_=plt.hist(simskyG, bins=30, alpha=0.5, label='g')\n",
    "_=plt.hist(simskyR, bins=30, alpha=0.5, label='r')\n",
    "_=plt.hist(simskyI, bins=30, alpha=0.5, label='i')\n",
    "plt.xlabel('Sky background distribution [delta mag]')\n",
    "plt.legend()"
   ]
  },
  {
   "cell_type": "code",
   "execution_count": 12,
   "metadata": {},
   "outputs": [
    {
     "data": {
      "text/plain": [
       "<matplotlib.legend.Legend at 0x7f5ba66bbda0>"
      ]
     },
     "execution_count": 12,
     "metadata": {},
     "output_type": "execute_result"
    },
    {
     "data": {
      "image/png": "[encoded data removed]",
      "text/plain": [
       "<matplotlib.figure.Figure at 0x7f5ba86805c0>"
      ]
     },
     "metadata": {},
     "output_type": "display_data"
    }
   ],
   "source": [
    "plt.hist(simskyG,bins=30,label='minsep 35',alpha=0.5)\n",
    "plt.hist(simskyG20,bins=30,label='minsep 20',alpha=0.5)\n",
    "plt.hist(simskyG60,bins=30,label='minsep 60',alpha=0.5)\n",
    "plt.xlabel('Sky background distribution [delta mag]')\n",
    "plt.legend()"
   ]
  },
  {
   "cell_type": "code",
   "execution_count": 36,
   "metadata": {},
   "outputs": [
    {
     "name": "stderr",
     "output_type": "stream",
     "text": [
      "WARNING: ErfaWarning: ERFA function \"d2dtf\" yielded 1 of \"dubious year (Note 5)\" [astropy._erfa.core]\n"
     ]
    }
   ],
   "source": [
    "simskyG60_nc = make_simulation(modelG, 1, 10000,clouds=False,minMoonDist=60,seed=1)\n",
    "#simskyRNC = make_simulation(modelR, 2, 10000,clouds=False)\n",
    "#simskyINC = make_simulation(modelI, 3, 10000,clouds=False)"
   ]
  },
  {
   "cell_type": "code",
   "execution_count": 37,
   "metadata": {},
   "outputs": [
    {
     "name": "stdout",
     "output_type": "stream",
     "text": [
      "14990 14990\n"
     ]
    },
    {
     "data": {
      "image/png": "[encoded data removed]",
      "text/plain": [
       "<matplotlib.figure.Figure at 0x7f5ba6946390>"
      ]
     },
     "metadata": {},
     "output_type": "display_data"
    }
   ],
   "source": [
    "minN = min(len(simskyG60),len(simskyG60_nc))\n",
    "plt.hist(simskyG60[:minN], bins=30, alpha=0.2,color='red',range=[0,5])\n",
    "plt.hist(simskyG60_nc[:minN], bins=30, alpha=0.2,color='blue',range=[0,5])\n",
    "print (len(simskyG60),len(simskyG60_nc))"
   ]
  },
  {
   "cell_type": "code",
   "execution_count": 30,
   "metadata": {},
   "outputs": [
    {
     "name": "stdout",
     "output_type": "stream",
     "text": [
      "4.45266658147 0.23193333478 0.271833334633 4.0167667071\n"
     ]
    }
   ],
   "source": [
    "print (simskyG60.max(),simskyG60.min(),simskyG60_nc.min(),simskyG60_nc.max())"
   ]
  },
  {
   "cell_type": "code",
   "execution_count": 46,
   "metadata": {},
   "outputs": [
    {
     "data": {
      "text/plain": [
       "<matplotlib.text.Text at 0x7f5ba690d048>"
      ]
     },
     "execution_count": 46,
     "metadata": {},
     "output_type": "execute_result"
    },
    {
     "data": {
      "image/png": "[encoded data removed]",
      "text/plain": [
       "<matplotlib.figure.Figure at 0x7f5b5621ceb8>"
      ]
     },
     "metadata": {},
     "output_type": "display_data"
    }
   ],
   "source": [
    "plt.plot(simskyG60,simskyG60_nc,'.');plt.xlabel('Sky level with clouds');plt.ylabel('Sky level without clouds')"
   ]
  },
  {
   "cell_type": "code",
   "execution_count": 41,
   "metadata": {},
   "outputs": [
    {
     "data": {
      "text/plain": [
       "(array([  8.00000000e+00,   1.28640000e+04,   1.25700000e+03,\n",
       "          4.05000000e+02,   2.16000000e+02,   1.27000000e+02,\n",
       "          6.30000000e+01,   2.80000000e+01,   2.00000000e+01,\n",
       "          2.00000000e+00]),\n",
       " array([-0.39996668, -0.17764334,  0.04467999,  0.26700332,  0.48932665,\n",
       "         0.71164999,  0.93397332,  1.15629665,  1.37861998,  1.60094331,\n",
       "         1.82326665]),\n",
       " <a list of 10 Patch objects>)"
      ]
     },
     "execution_count": 41,
     "metadata": {},
     "output_type": "execute_result"
    },
    {
     "data": {
      "image/png": "[encoded data removed]",
      "text/plain": [
       "<matplotlib.figure.Figure at 0x7f5b562bb828>"
      ]
     },
     "metadata": {},
     "output_type": "display_data"
    }
   ],
   "source": [
    "plt.hist(simskyG60-simskyG60_nc,bins=10); plt.xlabel('Offset in sky without clouds/with clouds')"
   ]
  },
  {
   "cell_type": "code",
   "execution_count": 44,
   "metadata": {},
   "outputs": [
    {
     "data": {
      "text/plain": [
       "0.067845230153435618"
      ]
     },
     "execution_count": 44,
     "metadata": {},
     "output_type": "execute_result"
    }
   ],
   "source": [
    "((simskyG60-simskyG60_nc)>0.2).sum()/len(simskyG60)"
   ]
  },
  {
   "cell_type": "code",
   "execution_count": null,
   "metadata": {
    "collapsed": true
   },
   "outputs": [],
   "source": []
  }
 ],
 "metadata": {
  "kernelspec": {
   "display_name": "Python 3",
   "language": "python",
   "name": "python3"
  },
  "language_info": {
   "codemirror_mode": {
    "name": "ipython",
    "version": 3
   },
   "file_extension": ".py",
   "mimetype": "text/x-python",
   "name": "python",
   "nbconvert_exporter": "python",
   "pygments_lexer": "ipython3",
   "version": "3.5.2"
  }
 },
 "nbformat": 4,
 "nbformat_minor": 2
}

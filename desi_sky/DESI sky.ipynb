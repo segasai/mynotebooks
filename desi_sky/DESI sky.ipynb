{
 "cells": [
  {
   "cell_type": "code",
   "execution_count": 1,
   "metadata": {
    "collapsed": true
   },
   "outputs": [],
   "source": [
    "import sklearn.ensemble as sken\n",
    "import astropy.table as atpy\n",
    "import numpy as np\n",
    "import sklearn.model_selection as skmose \n",
    "import ephem\n",
    "import astropy.time\n",
    "import matplotlib.pyplot as plt\n",
    "import healpy\n",
    "import sphdist\n"
   ]
  },
  {
   "cell_type": "code",
   "execution_count": 2,
   "metadata": {
    "collapsed": true
   },
   "outputs": [],
   "source": [
    "#fname,format = 'des-moon-sky-t_fix.csv','ascii'\n",
    "\n",
    "# read the input file\n",
    "\n",
    "fname,format = 'DECam_sky.fits',None\n",
    "tab = atpy.Table().read(fname,format=format)\n",
    "tab =  tab[np.random.permutation(len(tab))]\n",
    "# permute just in case\n"
   ]
  },
  {
   "cell_type": "code",
   "execution_count": 7,
   "metadata": {},
   "outputs": [],
   "source": [
    "# Compute some extra stuff (compute asimuths, zd of moon, sun and targets)\n",
    "\n",
    "sun = ephem.Sun()\n",
    "moon = ephem.Moon()\n",
    "obs = ephem.Observer()\n",
    "body = ephem.FixedBody()\n",
    "body._epoch=2000\n",
    "\n",
    "# Blanco \n",
    "obs.lon='-70:47:23.49' # E+\n",
    "obs.lat='-30:10:10.78' # N+\n",
    "times = astropy.time.Time(tab['mjd'],format='mjd')\n",
    "xdates =[_.datetime.strftime('%Y/%m/%d %H:%M:%S') for _ in times]\n",
    "\n",
    "moonP = []\n",
    "moonAlt = []\n",
    "sunAlt = []\n",
    "objAlt = []\n",
    "objAz = []\n",
    "sunAz = []\n",
    "moonAz = []\n",
    "\n",
    "for ra, dec, x in zip(tab['ra'],tab['dec'],xdates):\n",
    "        obs.date = x\n",
    "        body._ra = np.deg2rad(ra)\n",
    "        body._dec = np.deg2rad(dec)\n",
    "        moon.compute(obs)\n",
    "        sun.compute(obs)\n",
    "        body.compute(obs)\n",
    "\n",
    "        moonAlt.append(np.rad2deg(moon.alt))\n",
    "        moonAz.append(np.rad2deg(moon.az))\n",
    "        moonP.append(moon.phase)\n",
    "\n",
    "        sunAlt.append(np.rad2deg(sun.alt))\n",
    "        sunAz.append(np.rad2deg(sun.az))\n",
    "\n",
    "        objAlt.append(np.rad2deg(body.alt))      \n",
    "        objAz.append(np.rad2deg(body.az))\n",
    "\n",
    "sunAlt, moonP, moonAlt, objAlt, moonAz, sunAz, objAz = [np.array(_) for _ in [\n",
    "                sunAlt, moonP, moonAlt, objAlt, moonAz, sunAz, objAz]]"
   ]
  },
  {
   "cell_type": "code",
   "execution_count": 5,
   "metadata": {},
   "outputs": [
    {
     "name": "stderr",
     "output_type": "stream",
     "text": [
      "/home/koposov/pyenv3/lib/python3.5/site-packages/ipykernel_launcher.py:5: RuntimeWarning: divide by zero encountered in log10\n",
      "  \"\"\"\n",
      "/home/koposov/pyenv3/lib/python3.5/site-packages/ipykernel_launcher.py:5: RuntimeWarning: invalid value encountered in log10\n",
      "  \"\"\"\n"
     ]
    }
   ],
   "source": [
    "# Preparation of input data\n",
    "indat = np.array([tab['trans'], tab['zd'],tab['moonSep'],\n",
    "                tab['moonPhase'],tab['moonZD']])\n",
    "\n",
    "outdat = np.log10(tab['sky'])"
   ]
  },
  {
   "cell_type": "code",
   "execution_count": 8,
   "metadata": {},
   "outputs": [],
   "source": [
    "maxSunAlt = -18 # maximum altitude of the Sun\n",
    "\n",
    "goodset= ( np.isfinite(indat).all(axis=0) &\n",
    "        (sunAlt < maxSunAlt) &\n",
    "        np.isfinite(outdat))\n",
    "\n",
    "def fitmodel(filt, sub = None):\n",
    "    rfr = sken.RandomForestRegressor()\n",
    "    gsrfr = skmose.GridSearchCV(rfr, {'n_estimators':[10,30,100,300],\n",
    "                        'min_samples_split':[2,10,30,100]},\n",
    "                n_jobs=8, cv=3)\n",
    "\n",
    "    xind = (tab['band'] == filt) & goodset\n",
    "    if sub is not None:\n",
    "        xind = xind & sub\n",
    "    indatF = indat[:,xind]\n",
    "    outdatF = outdat[xind]\n",
    "    gsrfr.fit(indatF.T, outdatF)\n",
    "    return gsrfr\n"
   ]
  },
  {
   "cell_type": "code",
   "execution_count": 9,
   "metadata": {},
   "outputs": [
    {
     "data": {
      "text/plain": [
       "<matplotlib.text.Text at 0x7f8dcac1bc50>"
      ]
     },
     "execution_count": 9,
     "metadata": {},
     "output_type": "execute_result"
    },
    {
     "data": {
      "image/png": "[encoded data removed]",
      "text/plain": [
       "<matplotlib.figure.Figure at 0x7f8e0404acf8>"
      ]
     },
     "metadata": {},
     "output_type": "display_data"
    }
   ],
   "source": [
    "# fit the model on 90%\n",
    "frac  = 0.9\n",
    "sub = np.random.uniform(size=len(tab)) < frac\n",
    "modelR0 = fitmodel(2, sub)\n",
    "# predict on the rest of 10%\n",
    "indatC = indat[:,goodset & (tab['band'] == 2) & (~sub)]\n",
    "outdatC = outdat[goodset & (tab['band'] == 2) & (~sub)]\n",
    "predC = modelR0.predict(indatC.T)\n",
    "plt.plot(outdatC, predC, '.')\n",
    "plt.xlabel('log10 Observed Sky')\n",
    "plt.ylabel('log10 Predicted Sky')\n"
   ]
  },
  {
   "cell_type": "code",
   "execution_count": 10,
   "metadata": {
    "collapsed": true
   },
   "outputs": [],
   "source": [
    "modelG = fitmodel(1)\n",
    "modelR = fitmodel(2)\n",
    "modelI = fitmodel(3)\n",
    "#background models in different bands\n"
   ]
  },
  {
   "cell_type": "code",
   "execution_count": 11,
   "metadata": {
    "collapsed": true
   },
   "outputs": [],
   "source": [
    "def make_simulation(modeler, filt, N, minMoonDist= 35):\n",
    "    # simulate the sky levels\n",
    "    \n",
    "    minAlt = 30\n",
    "    # minimum altitude of objects above the horizon \n",
    "    # This should really come from the survey simulation as this is pure geometry.\n",
    "    sun = ephem.Sun()\n",
    "    moon = ephem.Moon()\n",
    "    obs = ephem.Observer()\n",
    "    body = ephem.FixedBody()\n",
    "    body._epoch = 2000\n",
    "\n",
    "    # Kitt Peak\n",
    "    obs.lon = '-111:47:23.49' # E+\n",
    "    obs.lat =  '31:10:10.78'   # N+\n",
    "\n",
    "\n",
    "    # random dates across the year\n",
    "    mjds = np.random.uniform(58000, 60000, size=10*N)\n",
    "    times = astropy.time.Time(mjds, format='mjd')\n",
    "    xdates = np.array([_.datetime.strftime('%Y/%m/%d %H:%M:%S') for _ in times])\n",
    "\n",
    "    moonP = []\n",
    "    moonAz = []\n",
    "    moonAlt = []\n",
    "    sunAz = []\n",
    "    sunAlt = []\n",
    "    objAz = []\n",
    "    objAlt = []\n",
    "\n",
    "    for x in (xdates):\n",
    "        obs.date = x\n",
    "        moon.compute(obs)\n",
    "        sun.compute(obs)\n",
    "\n",
    "        moonAz.append(np.rad2deg(moon.az))\n",
    "        moonAlt.append(np.rad2deg(moon.alt))\n",
    "        moonP.append(moon.phase)\n",
    "\n",
    "        sunAz.append(np.rad2deg(sun.az))\n",
    "        sunAlt.append(np.rad2deg(sun.alt))\n",
    "\n",
    "    sunAlt, moonP, moonAlt, moonAz, sunAz = [np.array(_) for _ in [\n",
    "                sunAlt, moonP, moonAlt, moonAz, sunAz]]\n",
    "    \n",
    "    moonP = np.rad2deg(np.arccos(2*moonP/100.-1))\n",
    "    # convert moonphases (0-100%) to angle in degrees\n",
    "    \n",
    "    xind = (moonAlt > 0) & ( moonP < 90) & (sunAlt < maxSunAlt)\n",
    "    # select the time when moon is above the horizon, it is not twilight and \n",
    "    # moon is bright ( < 90deg)\n",
    " \n",
    "    xdates = xdates[xind]\n",
    "    sunAlt, moonP, moonAlt, moonAz, sunAz = [_[xind] for _ in [\n",
    "                sunAlt, moonP, moonAlt, moonAz, sunAz]]\n",
    "\n",
    "\n",
    "    # create fake population of targets \n",
    "    # that are uniformly distributed on the sky such that they have\n",
    "    # altitude above minAlt\n",
    "    # and the moon distance > minMoonDist\n",
    "\n",
    "    for curmoonAz, curmoonAlt in zip(moonAz, moonAlt):\n",
    "        # uniform distribution on the sky with Alt > minAlt\n",
    "        while True:\n",
    "            Az = np.random.uniform(0, 360)\n",
    "            Alt = np.rad2deg(np.arcsin(np.random.uniform(np.sin(np.deg2rad(minAlt)), 1)))\n",
    "            if sphdist.sphdist(Az, Alt, curmoonAz, curmoonAlt) > minMoonDist:\n",
    "                break\n",
    "        objAlt.append(Alt)\n",
    "        objAz.append(Az)\n",
    "    objAlt = np.array(objAlt)\n",
    "    objAz = np.array(objAz)\n",
    "    \n",
    "    moonD = sphdist.sphdist(objAz, objAlt, moonAz, moonAlt)\n",
    "    # distance from the objects to the moon \n",
    "    \n",
    "    #take random samples of transparencies the past\n",
    "    curtrans = tab['trans'][tab['band'] == filt]\n",
    "    simtrans = curtrans[np.random.randint(0,len(curtrans),size=len(moonD))]\n",
    "    \n",
    "    indat = np.array([simtrans, 90 - objAlt, moonD, moonP, 90 - moonAlt])\n",
    "    simsky = 10 ** modeler.predict(indat.T)\n",
    "    return simsky\n"
   ]
  },
  {
   "cell_type": "code",
   "execution_count": 12,
   "metadata": {},
   "outputs": [
    {
     "name": "stderr",
     "output_type": "stream",
     "text": [
      "WARNING: ErfaWarning: ERFA function \"d2dtf\" yielded 1 of \"dubious year (Note 5)\" [astropy._erfa.core]\n"
     ]
    }
   ],
   "source": [
    "simskyG = make_simulation(modelG, 1, 10000)\n",
    "simskyR = make_simulation(modelR, 2, 10000)\n",
    "simskyI = make_simulation(modelI, 3, 10000)\n",
    "simskyG20 = make_simulation(modelG, 1, 10000, minMoonDist=20)\n"
   ]
  },
  {
   "cell_type": "code",
   "execution_count": 16,
   "metadata": {},
   "outputs": [
    {
     "data": {
      "text/plain": [
       "<matplotlib.legend.Legend at 0x7f8dd005a160>"
      ]
     },
     "execution_count": 16,
     "metadata": {},
     "output_type": "execute_result"
    },
    {
     "data": {
      "image/png": "[encoded data removed]",
      "text/plain": [
       "<matplotlib.figure.Figure at 0x7f8dd004ff28>"
      ]
     },
     "metadata": {},
     "output_type": "display_data"
    }
   ],
   "source": [
    "_=plt.hist(simskyG, bins=30, alpha=0.5, label='g')\n",
    "_=plt.hist(simskyR, bins=30, alpha=0.5, label='r')\n",
    "_=plt.hist(simskyI, bins=30, alpha=0.5, label='i')\n",
    "plt.legend()"
   ]
  },
  {
   "cell_type": "code",
   "execution_count": 15,
   "metadata": {},
   "outputs": [
    {
     "data": {
      "text/plain": [
       "<matplotlib.legend.Legend at 0x7f8dd0101be0>"
      ]
     },
     "execution_count": 15,
     "metadata": {},
     "output_type": "execute_result"
    },
    {
     "data": {
      "image/png": "[encoded data removed]",
      "text/plain": [
       "<matplotlib.figure.Figure at 0x7f8dd02896a0>"
      ]
     },
     "metadata": {},
     "output_type": "display_data"
    }
   ],
   "source": [
    "plt.hist(simskyG,bins=30,label='minsep 35',alpha=0.5)\n",
    "plt.hist(simskyG20,bins=30,label='minsep 20',alpha=0.5)\n",
    "plt.legend()"
   ]
  },
  {
   "cell_type": "code",
   "execution_count": null,
   "metadata": {
    "collapsed": true
   },
   "outputs": [],
   "source": []
  }
 ],
 "metadata": {
  "kernelspec": {
   "display_name": "Python 3",
   "language": "python",
   "name": "python3"
  },
  "language_info": {
   "codemirror_mode": {
    "name": "ipython",
    "version": 3
   },
   "file_extension": ".py",
   "mimetype": "text/x-python",
   "name": "python",
   "nbconvert_exporter": "python",
   "pygments_lexer": "ipython3",
   "version": "3.5.2"
  }
 },
 "nbformat": 4,
 "nbformat_minor": 2
}

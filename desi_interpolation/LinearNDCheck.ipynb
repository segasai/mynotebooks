{
 "cells": [
  {
   "cell_type": "code",
   "execution_count": 8,
   "metadata": {
    "collapsed": true
   },
   "outputs": [],
   "source": [
    "import astropy.table as atpy\n",
    "import astropy.io.fits as pyfits\n",
    "import astropy.wcs as pywcs\n",
    "import numpy as np\n",
    "import scipy.interpolate\n",
    "import scipy.stats\n",
    "betw = lambda x,x1,x2:(x>x1)&(x<=x2)"
   ]
  },
  {
   "cell_type": "code",
   "execution_count": 9,
   "metadata": {},
   "outputs": [],
   "source": [
    "prefix='/tmp/' # prefix to the data files\n",
    "\n",
    "#read the data file and compute the grid points\n",
    "dat, hdr = pyfits.getdata(prefix+'n_nsc1.fits', header=True)\n",
    "nw, nx1, nx2, nx3 = dat.T.shape\n",
    "wc = pywcs.WCS(hdr)\n",
    "x1, x2, x3 = np.mgrid[0:nx1, 0:nx2, 0:nx3]\n",
    "_, y1, y2, y3 = wc.all_pix2world(np.array([x1.flatten() * 0, x1.flatten(),\n",
    "                                           x2.flatten(), x3.flatten()]).T, 0).T\n"
   ]
  },
  {
   "cell_type": "code",
   "execution_count": 10,
   "metadata": {
    "collapsed": true
   },
   "outputs": [],
   "source": [
    "#build first interpolator\n",
    "dat0 = dat.T.reshape(nw, -1)\n",
    "II = scipy.interpolate.LinearNDInterpolator(np.array([y3, y2, y1]).T, dat0.T)\n",
    "tab1 = atpy.Table().read(prefix+'run1.ipf', format='ascii')\n",
    "Ivals = II(tab1['col2'], tab1['col3'], tab1['col4'])"
   ]
  },
  {
   "cell_type": "code",
   "execution_count": 11,
   "metadata": {
    "collapsed": true
   },
   "outputs": [],
   "source": [
    "#build second interpolator\n",
    "\n",
    "tab2 = atpy.Table().read(prefix+'run2.ipf', format='ascii')\n",
    "II2 = scipy.interpolate.LinearNDInterpolator(np.array([tab1['col2'],\n",
    "                                                       tab1['col3'],\n",
    "                                                       tab1['col4']]).T, Ivals)"
   ]
  },
  {
   "cell_type": "code",
   "execution_count": 18,
   "metadata": {},
   "outputs": [],
   "source": [
    "# compute the values of the second interpolator \n",
    "# accumulate the array of original noninterp values\n",
    "Ivals2 = II2(tab2['col2'], tab2['col3'], tab2['col4'])\n",
    "res=[]\n",
    "for i in range(len(tab2['col2'])):\n",
    "        xind = (y3==tab2['col2'][i]) & (y2==tab2['col3'][i]) & (y1==tab2['col4'][i])\n",
    "        assert(xind.sum() == 1)\n",
    "        res.append(dat0[:,xind].flatten())\n",
    "res = np.array(res)\n",
    "                                                                "
   ]
  },
  {
   "cell_type": "code",
   "execution_count": 19,
   "metadata": {},
   "outputs": [
    {
     "name": "stdout",
     "output_type": "stream",
     "text": [
      "med -0.0186406075954\n",
      "std 0.0846237072588\n",
      "robstd 0.02941860497\n"
     ]
    }
   ],
   "source": [
    "waves = 10**(hdr['CRVAL1'] + np.arange(nw) * hdr['CDELT1'])\n",
    "sub = betw(waves, 4000, 10000)\n",
    "def robust_std(x):\n",
    "        return 0.5 * (scipy.stats.scoreatpercentile(x, 100-  16)-scipy.stats.scoreatpercentile(x,16))\n",
    "\n",
    "print ('med', np.median((Ivals2-res)[:,sub]))\n",
    "print ('std', np.std((Ivals2-res)))\n",
    "print ('robstd', robust_std((Ivals2-res)))"
   ]
  },
  {
   "cell_type": "code",
   "execution_count": null,
   "metadata": {
    "collapsed": true
   },
   "outputs": [],
   "source": []
  }
 ],
 "metadata": {
  "kernelspec": {
   "display_name": "Python 3",
   "language": "python",
   "name": "python3"
  },
  "language_info": {
   "codemirror_mode": {
    "name": "ipython",
    "version": 3
   },
   "file_extension": ".py",
   "mimetype": "text/x-python",
   "name": "python",
   "nbconvert_exporter": "python",
   "pygments_lexer": "ipython3",
   "version": "3.5.2"
  }
 },
 "nbformat": 4,
 "nbformat_minor": 2
}
